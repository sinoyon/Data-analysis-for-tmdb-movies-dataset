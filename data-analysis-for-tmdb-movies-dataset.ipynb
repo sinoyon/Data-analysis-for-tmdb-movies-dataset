{
 "cells": [
  {
   "cell_type": "markdown",
   "id": "75229d3c",
   "metadata": {
    "papermill": {
     "duration": 0.032802,
     "end_time": "2022-05-09T11:40:30.368180",
     "exception": false,
     "start_time": "2022-05-09T11:40:30.335378",
     "status": "completed"
    },
    "tags": []
   },
   "source": [
    "# Importing Necessary Library and packages"
   ]
  },
  {
   "cell_type": "code",
   "execution_count": 1,
   "id": "fc309547",
   "metadata": {
    "_cell_guid": "b1076dfc-b9ad-4769-8c92-a6c4dae69d19",
    "_uuid": "8f2839f25d086af736a60e9eeb907d3b93b6e0e5",
    "execution": {
     "iopub.execute_input": "2022-05-09T11:40:30.419019Z",
     "iopub.status.busy": "2022-05-09T11:40:30.418205Z",
     "iopub.status.idle": "2022-05-09T11:40:31.541977Z",
     "shell.execute_reply": "2022-05-09T11:40:31.539771Z"
    },
    "papermill": {
     "duration": 1.153597,
     "end_time": "2022-05-09T11:40:31.545519",
     "exception": false,
     "start_time": "2022-05-09T11:40:30.391922",
     "status": "completed"
    },
    "tags": []
   },
   "outputs": [
    {
     "name": "stdout",
     "output_type": "stream",
     "text": [
      "/kaggle/input/tmdb-movies-dataset/tmdb-movies.csv\n"
     ]
    }
   ],
   "source": [
    "import numpy as np # linear algebra\n",
    "import pandas as pd # data processing, CSV file I/O (e.g. pd.read_csv)\n",
    "%matplotlib inline\n",
    "import matplotlib as mpl\n",
    "import matplotlib.pyplot as plt\n",
    "from matplotlib.ticker import StrMethodFormatter\n",
    "import seaborn as sns\n",
    "import datetime\n",
    "import random\n",
    "import os\n",
    "for dirname, _, filenames in os.walk('/kaggle/input'):\n",
    "    for filename in filenames:\n",
    "        print(os.path.join(dirname, filename))"
   ]
  },
  {
   "cell_type": "markdown",
   "id": "9ce261d2",
   "metadata": {
    "papermill": {
     "duration": 0.020862,
     "end_time": "2022-05-09T11:40:31.589200",
     "exception": false,
     "start_time": "2022-05-09T11:40:31.568338",
     "status": "completed"
    },
    "tags": []
   },
   "source": [
    "# Reading the Dataset"
   ]
  },
  {
   "cell_type": "code",
   "execution_count": 2,
   "id": "c9e5dc8e",
   "metadata": {
    "execution": {
     "iopub.execute_input": "2022-05-09T11:40:31.633940Z",
     "iopub.status.busy": "2022-05-09T11:40:31.633671Z",
     "iopub.status.idle": "2022-05-09T11:40:31.874822Z",
     "shell.execute_reply": "2022-05-09T11:40:31.873871Z"
    },
    "papermill": {
     "duration": 0.266269,
     "end_time": "2022-05-09T11:40:31.877101",
     "exception": false,
     "start_time": "2022-05-09T11:40:31.610832",
     "status": "completed"
    },
    "tags": []
   },
   "outputs": [],
   "source": [
    "df = pd.read_csv('/kaggle/input/tmdb-movies-dataset/tmdb-movies.csv')"
   ]
  },
  {
   "cell_type": "code",
   "execution_count": 3,
   "id": "6bc0d9aa",
   "metadata": {
    "execution": {
     "iopub.execute_input": "2022-05-09T11:40:31.923126Z",
     "iopub.status.busy": "2022-05-09T11:40:31.922857Z",
     "iopub.status.idle": "2022-05-09T11:40:31.967657Z",
     "shell.execute_reply": "2022-05-09T11:40:31.966573Z"
    },
    "papermill": {
     "duration": 0.071243,
     "end_time": "2022-05-09T11:40:31.970379",
     "exception": false,
     "start_time": "2022-05-09T11:40:31.899136",
     "status": "completed"
    },
    "tags": []
   },
   "outputs": [
    {
     "data": {
      "text/html": [
       "<div>\n",
       "<style scoped>\n",
       "    .dataframe tbody tr th:only-of-type {\n",
       "        vertical-align: middle;\n",
       "    }\n",
       "\n",
       "    .dataframe tbody tr th {\n",
       "        vertical-align: top;\n",
       "    }\n",
       "\n",
       "    .dataframe thead th {\n",
       "        text-align: right;\n",
       "    }\n",
       "</style>\n",
       "<table border=\"1\" class=\"dataframe\">\n",
       "  <thead>\n",
       "    <tr style=\"text-align: right;\">\n",
       "      <th></th>\n",
       "      <th>id</th>\n",
       "      <th>imdb_id</th>\n",
       "      <th>popularity</th>\n",
       "      <th>budget</th>\n",
       "      <th>revenue</th>\n",
       "      <th>original_title</th>\n",
       "      <th>cast</th>\n",
       "      <th>homepage</th>\n",
       "      <th>director</th>\n",
       "      <th>tagline</th>\n",
       "      <th>...</th>\n",
       "      <th>overview</th>\n",
       "      <th>runtime</th>\n",
       "      <th>genres</th>\n",
       "      <th>production_companies</th>\n",
       "      <th>release_date</th>\n",
       "      <th>vote_count</th>\n",
       "      <th>vote_average</th>\n",
       "      <th>release_year</th>\n",
       "      <th>budget_adj</th>\n",
       "      <th>revenue_adj</th>\n",
       "    </tr>\n",
       "  </thead>\n",
       "  <tbody>\n",
       "    <tr>\n",
       "      <th>0</th>\n",
       "      <td>135397</td>\n",
       "      <td>tt0369610</td>\n",
       "      <td>32.985763</td>\n",
       "      <td>150000000</td>\n",
       "      <td>1513528810</td>\n",
       "      <td>Jurassic World</td>\n",
       "      <td>Chris Pratt|Bryce Dallas Howard|Irrfan Khan|Vi...</td>\n",
       "      <td>http://www.jurassicworld.com/</td>\n",
       "      <td>Colin Trevorrow</td>\n",
       "      <td>The park is open.</td>\n",
       "      <td>...</td>\n",
       "      <td>Twenty-two years after the events of Jurassic ...</td>\n",
       "      <td>124</td>\n",
       "      <td>Action|Adventure|Science Fiction|Thriller</td>\n",
       "      <td>Universal Studios|Amblin Entertainment|Legenda...</td>\n",
       "      <td>6/9/15</td>\n",
       "      <td>5562</td>\n",
       "      <td>6.5</td>\n",
       "      <td>2015</td>\n",
       "      <td>1.379999e+08</td>\n",
       "      <td>1.392446e+09</td>\n",
       "    </tr>\n",
       "    <tr>\n",
       "      <th>1</th>\n",
       "      <td>76341</td>\n",
       "      <td>tt1392190</td>\n",
       "      <td>28.419936</td>\n",
       "      <td>150000000</td>\n",
       "      <td>378436354</td>\n",
       "      <td>Mad Max: Fury Road</td>\n",
       "      <td>Tom Hardy|Charlize Theron|Hugh Keays-Byrne|Nic...</td>\n",
       "      <td>http://www.madmaxmovie.com/</td>\n",
       "      <td>George Miller</td>\n",
       "      <td>What a Lovely Day.</td>\n",
       "      <td>...</td>\n",
       "      <td>An apocalyptic story set in the furthest reach...</td>\n",
       "      <td>120</td>\n",
       "      <td>Action|Adventure|Science Fiction|Thriller</td>\n",
       "      <td>Village Roadshow Pictures|Kennedy Miller Produ...</td>\n",
       "      <td>5/13/15</td>\n",
       "      <td>6185</td>\n",
       "      <td>7.1</td>\n",
       "      <td>2015</td>\n",
       "      <td>1.379999e+08</td>\n",
       "      <td>3.481613e+08</td>\n",
       "    </tr>\n",
       "    <tr>\n",
       "      <th>2</th>\n",
       "      <td>262500</td>\n",
       "      <td>tt2908446</td>\n",
       "      <td>13.112507</td>\n",
       "      <td>110000000</td>\n",
       "      <td>295238201</td>\n",
       "      <td>Insurgent</td>\n",
       "      <td>Shailene Woodley|Theo James|Kate Winslet|Ansel...</td>\n",
       "      <td>http://www.thedivergentseries.movie/#insurgent</td>\n",
       "      <td>Robert Schwentke</td>\n",
       "      <td>One Choice Can Destroy You</td>\n",
       "      <td>...</td>\n",
       "      <td>Beatrice Prior must confront her inner demons ...</td>\n",
       "      <td>119</td>\n",
       "      <td>Adventure|Science Fiction|Thriller</td>\n",
       "      <td>Summit Entertainment|Mandeville Films|Red Wago...</td>\n",
       "      <td>3/18/15</td>\n",
       "      <td>2480</td>\n",
       "      <td>6.3</td>\n",
       "      <td>2015</td>\n",
       "      <td>1.012000e+08</td>\n",
       "      <td>2.716190e+08</td>\n",
       "    </tr>\n",
       "    <tr>\n",
       "      <th>3</th>\n",
       "      <td>140607</td>\n",
       "      <td>tt2488496</td>\n",
       "      <td>11.173104</td>\n",
       "      <td>200000000</td>\n",
       "      <td>2068178225</td>\n",
       "      <td>Star Wars: The Force Awakens</td>\n",
       "      <td>Harrison Ford|Mark Hamill|Carrie Fisher|Adam D...</td>\n",
       "      <td>http://www.starwars.com/films/star-wars-episod...</td>\n",
       "      <td>J.J. Abrams</td>\n",
       "      <td>Every generation has a story.</td>\n",
       "      <td>...</td>\n",
       "      <td>Thirty years after defeating the Galactic Empi...</td>\n",
       "      <td>136</td>\n",
       "      <td>Action|Adventure|Science Fiction|Fantasy</td>\n",
       "      <td>Lucasfilm|Truenorth Productions|Bad Robot</td>\n",
       "      <td>12/15/15</td>\n",
       "      <td>5292</td>\n",
       "      <td>7.5</td>\n",
       "      <td>2015</td>\n",
       "      <td>1.839999e+08</td>\n",
       "      <td>1.902723e+09</td>\n",
       "    </tr>\n",
       "    <tr>\n",
       "      <th>4</th>\n",
       "      <td>168259</td>\n",
       "      <td>tt2820852</td>\n",
       "      <td>9.335014</td>\n",
       "      <td>190000000</td>\n",
       "      <td>1506249360</td>\n",
       "      <td>Furious 7</td>\n",
       "      <td>Vin Diesel|Paul Walker|Jason Statham|Michelle ...</td>\n",
       "      <td>http://www.furious7.com/</td>\n",
       "      <td>James Wan</td>\n",
       "      <td>Vengeance Hits Home</td>\n",
       "      <td>...</td>\n",
       "      <td>Deckard Shaw seeks revenge against Dominic Tor...</td>\n",
       "      <td>137</td>\n",
       "      <td>Action|Crime|Thriller</td>\n",
       "      <td>Universal Pictures|Original Film|Media Rights ...</td>\n",
       "      <td>4/1/15</td>\n",
       "      <td>2947</td>\n",
       "      <td>7.3</td>\n",
       "      <td>2015</td>\n",
       "      <td>1.747999e+08</td>\n",
       "      <td>1.385749e+09</td>\n",
       "    </tr>\n",
       "  </tbody>\n",
       "</table>\n",
       "<p>5 rows × 21 columns</p>\n",
       "</div>"
      ],
      "text/plain": [
       "       id    imdb_id  popularity     budget     revenue  \\\n",
       "0  135397  tt0369610   32.985763  150000000  1513528810   \n",
       "1   76341  tt1392190   28.419936  150000000   378436354   \n",
       "2  262500  tt2908446   13.112507  110000000   295238201   \n",
       "3  140607  tt2488496   11.173104  200000000  2068178225   \n",
       "4  168259  tt2820852    9.335014  190000000  1506249360   \n",
       "\n",
       "                 original_title  \\\n",
       "0                Jurassic World   \n",
       "1            Mad Max: Fury Road   \n",
       "2                     Insurgent   \n",
       "3  Star Wars: The Force Awakens   \n",
       "4                     Furious 7   \n",
       "\n",
       "                                                cast  \\\n",
       "0  Chris Pratt|Bryce Dallas Howard|Irrfan Khan|Vi...   \n",
       "1  Tom Hardy|Charlize Theron|Hugh Keays-Byrne|Nic...   \n",
       "2  Shailene Woodley|Theo James|Kate Winslet|Ansel...   \n",
       "3  Harrison Ford|Mark Hamill|Carrie Fisher|Adam D...   \n",
       "4  Vin Diesel|Paul Walker|Jason Statham|Michelle ...   \n",
       "\n",
       "                                            homepage          director  \\\n",
       "0                      http://www.jurassicworld.com/   Colin Trevorrow   \n",
       "1                        http://www.madmaxmovie.com/     George Miller   \n",
       "2     http://www.thedivergentseries.movie/#insurgent  Robert Schwentke   \n",
       "3  http://www.starwars.com/films/star-wars-episod...       J.J. Abrams   \n",
       "4                           http://www.furious7.com/         James Wan   \n",
       "\n",
       "                         tagline  ...  \\\n",
       "0              The park is open.  ...   \n",
       "1             What a Lovely Day.  ...   \n",
       "2     One Choice Can Destroy You  ...   \n",
       "3  Every generation has a story.  ...   \n",
       "4            Vengeance Hits Home  ...   \n",
       "\n",
       "                                            overview runtime  \\\n",
       "0  Twenty-two years after the events of Jurassic ...     124   \n",
       "1  An apocalyptic story set in the furthest reach...     120   \n",
       "2  Beatrice Prior must confront her inner demons ...     119   \n",
       "3  Thirty years after defeating the Galactic Empi...     136   \n",
       "4  Deckard Shaw seeks revenge against Dominic Tor...     137   \n",
       "\n",
       "                                      genres  \\\n",
       "0  Action|Adventure|Science Fiction|Thriller   \n",
       "1  Action|Adventure|Science Fiction|Thriller   \n",
       "2         Adventure|Science Fiction|Thriller   \n",
       "3   Action|Adventure|Science Fiction|Fantasy   \n",
       "4                      Action|Crime|Thriller   \n",
       "\n",
       "                                production_companies release_date vote_count  \\\n",
       "0  Universal Studios|Amblin Entertainment|Legenda...       6/9/15       5562   \n",
       "1  Village Roadshow Pictures|Kennedy Miller Produ...      5/13/15       6185   \n",
       "2  Summit Entertainment|Mandeville Films|Red Wago...      3/18/15       2480   \n",
       "3          Lucasfilm|Truenorth Productions|Bad Robot     12/15/15       5292   \n",
       "4  Universal Pictures|Original Film|Media Rights ...       4/1/15       2947   \n",
       "\n",
       "   vote_average  release_year    budget_adj   revenue_adj  \n",
       "0           6.5          2015  1.379999e+08  1.392446e+09  \n",
       "1           7.1          2015  1.379999e+08  3.481613e+08  \n",
       "2           6.3          2015  1.012000e+08  2.716190e+08  \n",
       "3           7.5          2015  1.839999e+08  1.902723e+09  \n",
       "4           7.3          2015  1.747999e+08  1.385749e+09  \n",
       "\n",
       "[5 rows x 21 columns]"
      ]
     },
     "execution_count": 3,
     "metadata": {},
     "output_type": "execute_result"
    }
   ],
   "source": [
    "df.head()"
   ]
  },
  {
   "cell_type": "code",
   "execution_count": 4,
   "id": "f37d4cbe",
   "metadata": {
    "execution": {
     "iopub.execute_input": "2022-05-09T11:40:32.032957Z",
     "iopub.status.busy": "2022-05-09T11:40:32.032313Z",
     "iopub.status.idle": "2022-05-09T11:40:32.040881Z",
     "shell.execute_reply": "2022-05-09T11:40:32.039994Z"
    },
    "papermill": {
     "duration": 0.040087,
     "end_time": "2022-05-09T11:40:32.043281",
     "exception": false,
     "start_time": "2022-05-09T11:40:32.003194",
     "status": "completed"
    },
    "tags": []
   },
   "outputs": [
    {
     "data": {
      "text/plain": [
       "id                        int64\n",
       "imdb_id                  object\n",
       "popularity              float64\n",
       "budget                    int64\n",
       "revenue                   int64\n",
       "original_title           object\n",
       "cast                     object\n",
       "homepage                 object\n",
       "director                 object\n",
       "tagline                  object\n",
       "keywords                 object\n",
       "overview                 object\n",
       "runtime                   int64\n",
       "genres                   object\n",
       "production_companies     object\n",
       "release_date             object\n",
       "vote_count                int64\n",
       "vote_average            float64\n",
       "release_year              int64\n",
       "budget_adj              float64\n",
       "revenue_adj             float64\n",
       "dtype: object"
      ]
     },
     "execution_count": 4,
     "metadata": {},
     "output_type": "execute_result"
    }
   ],
   "source": [
    "df.dtypes"
   ]
  },
  {
   "cell_type": "code",
   "execution_count": 5,
   "id": "a962a518",
   "metadata": {
    "execution": {
     "iopub.execute_input": "2022-05-09T11:40:32.099507Z",
     "iopub.status.busy": "2022-05-09T11:40:32.099200Z",
     "iopub.status.idle": "2022-05-09T11:40:32.104834Z",
     "shell.execute_reply": "2022-05-09T11:40:32.104140Z"
    },
    "papermill": {
     "duration": 0.034956,
     "end_time": "2022-05-09T11:40:32.106871",
     "exception": false,
     "start_time": "2022-05-09T11:40:32.071915",
     "status": "completed"
    },
    "tags": []
   },
   "outputs": [
    {
     "data": {
      "text/plain": [
       "(10866, 21)"
      ]
     },
     "execution_count": 5,
     "metadata": {},
     "output_type": "execute_result"
    }
   ],
   "source": [
    "df.shape"
   ]
  },
  {
   "cell_type": "code",
   "execution_count": 6,
   "id": "9d55969f",
   "metadata": {
    "execution": {
     "iopub.execute_input": "2022-05-09T11:40:32.156539Z",
     "iopub.status.busy": "2022-05-09T11:40:32.156235Z",
     "iopub.status.idle": "2022-05-09T11:40:32.196113Z",
     "shell.execute_reply": "2022-05-09T11:40:32.195441Z"
    },
    "papermill": {
     "duration": 0.067093,
     "end_time": "2022-05-09T11:40:32.198189",
     "exception": false,
     "start_time": "2022-05-09T11:40:32.131096",
     "status": "completed"
    },
    "tags": []
   },
   "outputs": [
    {
     "data": {
      "text/plain": [
       "id                      10865\n",
       "imdb_id                 10855\n",
       "popularity              10814\n",
       "budget                    557\n",
       "revenue                  4702\n",
       "original_title          10571\n",
       "cast                    10719\n",
       "homepage                 2896\n",
       "director                 5067\n",
       "tagline                  7997\n",
       "keywords                 8804\n",
       "overview                10847\n",
       "runtime                   247\n",
       "genres                   2039\n",
       "production_companies     7445\n",
       "release_date             5909\n",
       "vote_count               1289\n",
       "vote_average               72\n",
       "release_year               56\n",
       "budget_adj               2614\n",
       "revenue_adj              4840\n",
       "dtype: int64"
      ]
     },
     "execution_count": 6,
     "metadata": {},
     "output_type": "execute_result"
    }
   ],
   "source": [
    "df.nunique()"
   ]
  },
  {
   "cell_type": "code",
   "execution_count": 7,
   "id": "de614185",
   "metadata": {
    "execution": {
     "iopub.execute_input": "2022-05-09T11:40:32.246260Z",
     "iopub.status.busy": "2022-05-09T11:40:32.245645Z",
     "iopub.status.idle": "2022-05-09T11:40:32.261257Z",
     "shell.execute_reply": "2022-05-09T11:40:32.260367Z"
    },
    "papermill": {
     "duration": 0.041656,
     "end_time": "2022-05-09T11:40:32.263321",
     "exception": false,
     "start_time": "2022-05-09T11:40:32.221665",
     "status": "completed"
    },
    "tags": []
   },
   "outputs": [
    {
     "data": {
      "text/plain": [
       "id                         0\n",
       "imdb_id                   10\n",
       "popularity                 0\n",
       "budget                     0\n",
       "revenue                    0\n",
       "original_title             0\n",
       "cast                      76\n",
       "homepage                7930\n",
       "director                  44\n",
       "tagline                 2824\n",
       "keywords                1493\n",
       "overview                   4\n",
       "runtime                    0\n",
       "genres                    23\n",
       "production_companies    1030\n",
       "release_date               0\n",
       "vote_count                 0\n",
       "vote_average               0\n",
       "release_year               0\n",
       "budget_adj                 0\n",
       "revenue_adj                0\n",
       "dtype: int64"
      ]
     },
     "execution_count": 7,
     "metadata": {},
     "output_type": "execute_result"
    }
   ],
   "source": [
    "df.isnull().sum()"
   ]
  },
  {
   "cell_type": "code",
   "execution_count": 8,
   "id": "f9c1b6f4",
   "metadata": {
    "execution": {
     "iopub.execute_input": "2022-05-09T11:40:32.315860Z",
     "iopub.status.busy": "2022-05-09T11:40:32.315570Z",
     "iopub.status.idle": "2022-05-09T11:40:32.354080Z",
     "shell.execute_reply": "2022-05-09T11:40:32.353076Z"
    },
    "papermill": {
     "duration": 0.069292,
     "end_time": "2022-05-09T11:40:32.356881",
     "exception": false,
     "start_time": "2022-05-09T11:40:32.287589",
     "status": "completed"
    },
    "tags": []
   },
   "outputs": [
    {
     "data": {
      "text/html": [
       "<div>\n",
       "<style scoped>\n",
       "    .dataframe tbody tr th:only-of-type {\n",
       "        vertical-align: middle;\n",
       "    }\n",
       "\n",
       "    .dataframe tbody tr th {\n",
       "        vertical-align: top;\n",
       "    }\n",
       "\n",
       "    .dataframe thead th {\n",
       "        text-align: right;\n",
       "    }\n",
       "</style>\n",
       "<table border=\"1\" class=\"dataframe\">\n",
       "  <thead>\n",
       "    <tr style=\"text-align: right;\">\n",
       "      <th></th>\n",
       "      <th>id</th>\n",
       "      <th>imdb_id</th>\n",
       "      <th>popularity</th>\n",
       "      <th>budget</th>\n",
       "      <th>revenue</th>\n",
       "      <th>original_title</th>\n",
       "      <th>cast</th>\n",
       "      <th>homepage</th>\n",
       "      <th>director</th>\n",
       "      <th>tagline</th>\n",
       "      <th>...</th>\n",
       "      <th>overview</th>\n",
       "      <th>runtime</th>\n",
       "      <th>genres</th>\n",
       "      <th>production_companies</th>\n",
       "      <th>release_date</th>\n",
       "      <th>vote_count</th>\n",
       "      <th>vote_average</th>\n",
       "      <th>release_year</th>\n",
       "      <th>budget_adj</th>\n",
       "      <th>revenue_adj</th>\n",
       "    </tr>\n",
       "  </thead>\n",
       "  <tbody>\n",
       "    <tr>\n",
       "      <th>0</th>\n",
       "      <td>False</td>\n",
       "      <td>False</td>\n",
       "      <td>False</td>\n",
       "      <td>False</td>\n",
       "      <td>False</td>\n",
       "      <td>False</td>\n",
       "      <td>False</td>\n",
       "      <td>False</td>\n",
       "      <td>False</td>\n",
       "      <td>False</td>\n",
       "      <td>...</td>\n",
       "      <td>False</td>\n",
       "      <td>False</td>\n",
       "      <td>False</td>\n",
       "      <td>False</td>\n",
       "      <td>False</td>\n",
       "      <td>False</td>\n",
       "      <td>False</td>\n",
       "      <td>False</td>\n",
       "      <td>False</td>\n",
       "      <td>False</td>\n",
       "    </tr>\n",
       "    <tr>\n",
       "      <th>1</th>\n",
       "      <td>False</td>\n",
       "      <td>False</td>\n",
       "      <td>False</td>\n",
       "      <td>False</td>\n",
       "      <td>False</td>\n",
       "      <td>False</td>\n",
       "      <td>False</td>\n",
       "      <td>False</td>\n",
       "      <td>False</td>\n",
       "      <td>False</td>\n",
       "      <td>...</td>\n",
       "      <td>False</td>\n",
       "      <td>False</td>\n",
       "      <td>False</td>\n",
       "      <td>False</td>\n",
       "      <td>False</td>\n",
       "      <td>False</td>\n",
       "      <td>False</td>\n",
       "      <td>False</td>\n",
       "      <td>False</td>\n",
       "      <td>False</td>\n",
       "    </tr>\n",
       "    <tr>\n",
       "      <th>2</th>\n",
       "      <td>False</td>\n",
       "      <td>False</td>\n",
       "      <td>False</td>\n",
       "      <td>False</td>\n",
       "      <td>False</td>\n",
       "      <td>False</td>\n",
       "      <td>False</td>\n",
       "      <td>False</td>\n",
       "      <td>False</td>\n",
       "      <td>False</td>\n",
       "      <td>...</td>\n",
       "      <td>False</td>\n",
       "      <td>False</td>\n",
       "      <td>False</td>\n",
       "      <td>False</td>\n",
       "      <td>False</td>\n",
       "      <td>False</td>\n",
       "      <td>False</td>\n",
       "      <td>False</td>\n",
       "      <td>False</td>\n",
       "      <td>False</td>\n",
       "    </tr>\n",
       "    <tr>\n",
       "      <th>3</th>\n",
       "      <td>False</td>\n",
       "      <td>False</td>\n",
       "      <td>False</td>\n",
       "      <td>False</td>\n",
       "      <td>False</td>\n",
       "      <td>False</td>\n",
       "      <td>False</td>\n",
       "      <td>False</td>\n",
       "      <td>False</td>\n",
       "      <td>False</td>\n",
       "      <td>...</td>\n",
       "      <td>False</td>\n",
       "      <td>False</td>\n",
       "      <td>False</td>\n",
       "      <td>False</td>\n",
       "      <td>False</td>\n",
       "      <td>False</td>\n",
       "      <td>False</td>\n",
       "      <td>False</td>\n",
       "      <td>False</td>\n",
       "      <td>False</td>\n",
       "    </tr>\n",
       "    <tr>\n",
       "      <th>4</th>\n",
       "      <td>False</td>\n",
       "      <td>False</td>\n",
       "      <td>False</td>\n",
       "      <td>False</td>\n",
       "      <td>False</td>\n",
       "      <td>False</td>\n",
       "      <td>False</td>\n",
       "      <td>False</td>\n",
       "      <td>False</td>\n",
       "      <td>False</td>\n",
       "      <td>...</td>\n",
       "      <td>False</td>\n",
       "      <td>False</td>\n",
       "      <td>False</td>\n",
       "      <td>False</td>\n",
       "      <td>False</td>\n",
       "      <td>False</td>\n",
       "      <td>False</td>\n",
       "      <td>False</td>\n",
       "      <td>False</td>\n",
       "      <td>False</td>\n",
       "    </tr>\n",
       "    <tr>\n",
       "      <th>...</th>\n",
       "      <td>...</td>\n",
       "      <td>...</td>\n",
       "      <td>...</td>\n",
       "      <td>...</td>\n",
       "      <td>...</td>\n",
       "      <td>...</td>\n",
       "      <td>...</td>\n",
       "      <td>...</td>\n",
       "      <td>...</td>\n",
       "      <td>...</td>\n",
       "      <td>...</td>\n",
       "      <td>...</td>\n",
       "      <td>...</td>\n",
       "      <td>...</td>\n",
       "      <td>...</td>\n",
       "      <td>...</td>\n",
       "      <td>...</td>\n",
       "      <td>...</td>\n",
       "      <td>...</td>\n",
       "      <td>...</td>\n",
       "      <td>...</td>\n",
       "    </tr>\n",
       "    <tr>\n",
       "      <th>10861</th>\n",
       "      <td>False</td>\n",
       "      <td>False</td>\n",
       "      <td>False</td>\n",
       "      <td>False</td>\n",
       "      <td>False</td>\n",
       "      <td>False</td>\n",
       "      <td>False</td>\n",
       "      <td>True</td>\n",
       "      <td>False</td>\n",
       "      <td>True</td>\n",
       "      <td>...</td>\n",
       "      <td>False</td>\n",
       "      <td>False</td>\n",
       "      <td>False</td>\n",
       "      <td>False</td>\n",
       "      <td>False</td>\n",
       "      <td>False</td>\n",
       "      <td>False</td>\n",
       "      <td>False</td>\n",
       "      <td>False</td>\n",
       "      <td>False</td>\n",
       "    </tr>\n",
       "    <tr>\n",
       "      <th>10862</th>\n",
       "      <td>False</td>\n",
       "      <td>False</td>\n",
       "      <td>False</td>\n",
       "      <td>False</td>\n",
       "      <td>False</td>\n",
       "      <td>False</td>\n",
       "      <td>False</td>\n",
       "      <td>True</td>\n",
       "      <td>False</td>\n",
       "      <td>False</td>\n",
       "      <td>...</td>\n",
       "      <td>False</td>\n",
       "      <td>False</td>\n",
       "      <td>False</td>\n",
       "      <td>False</td>\n",
       "      <td>False</td>\n",
       "      <td>False</td>\n",
       "      <td>False</td>\n",
       "      <td>False</td>\n",
       "      <td>False</td>\n",
       "      <td>False</td>\n",
       "    </tr>\n",
       "    <tr>\n",
       "      <th>10863</th>\n",
       "      <td>False</td>\n",
       "      <td>False</td>\n",
       "      <td>False</td>\n",
       "      <td>False</td>\n",
       "      <td>False</td>\n",
       "      <td>False</td>\n",
       "      <td>False</td>\n",
       "      <td>True</td>\n",
       "      <td>False</td>\n",
       "      <td>True</td>\n",
       "      <td>...</td>\n",
       "      <td>False</td>\n",
       "      <td>False</td>\n",
       "      <td>False</td>\n",
       "      <td>False</td>\n",
       "      <td>False</td>\n",
       "      <td>False</td>\n",
       "      <td>False</td>\n",
       "      <td>False</td>\n",
       "      <td>False</td>\n",
       "      <td>False</td>\n",
       "    </tr>\n",
       "    <tr>\n",
       "      <th>10864</th>\n",
       "      <td>False</td>\n",
       "      <td>False</td>\n",
       "      <td>False</td>\n",
       "      <td>False</td>\n",
       "      <td>False</td>\n",
       "      <td>False</td>\n",
       "      <td>False</td>\n",
       "      <td>True</td>\n",
       "      <td>False</td>\n",
       "      <td>False</td>\n",
       "      <td>...</td>\n",
       "      <td>False</td>\n",
       "      <td>False</td>\n",
       "      <td>False</td>\n",
       "      <td>False</td>\n",
       "      <td>False</td>\n",
       "      <td>False</td>\n",
       "      <td>False</td>\n",
       "      <td>False</td>\n",
       "      <td>False</td>\n",
       "      <td>False</td>\n",
       "    </tr>\n",
       "    <tr>\n",
       "      <th>10865</th>\n",
       "      <td>False</td>\n",
       "      <td>False</td>\n",
       "      <td>False</td>\n",
       "      <td>False</td>\n",
       "      <td>False</td>\n",
       "      <td>False</td>\n",
       "      <td>False</td>\n",
       "      <td>True</td>\n",
       "      <td>False</td>\n",
       "      <td>False</td>\n",
       "      <td>...</td>\n",
       "      <td>False</td>\n",
       "      <td>False</td>\n",
       "      <td>False</td>\n",
       "      <td>False</td>\n",
       "      <td>False</td>\n",
       "      <td>False</td>\n",
       "      <td>False</td>\n",
       "      <td>False</td>\n",
       "      <td>False</td>\n",
       "      <td>False</td>\n",
       "    </tr>\n",
       "  </tbody>\n",
       "</table>\n",
       "<p>10866 rows × 21 columns</p>\n",
       "</div>"
      ],
      "text/plain": [
       "          id  imdb_id  popularity  budget  revenue  original_title   cast  \\\n",
       "0      False    False       False   False    False           False  False   \n",
       "1      False    False       False   False    False           False  False   \n",
       "2      False    False       False   False    False           False  False   \n",
       "3      False    False       False   False    False           False  False   \n",
       "4      False    False       False   False    False           False  False   \n",
       "...      ...      ...         ...     ...      ...             ...    ...   \n",
       "10861  False    False       False   False    False           False  False   \n",
       "10862  False    False       False   False    False           False  False   \n",
       "10863  False    False       False   False    False           False  False   \n",
       "10864  False    False       False   False    False           False  False   \n",
       "10865  False    False       False   False    False           False  False   \n",
       "\n",
       "       homepage  director  tagline  ...  overview  runtime  genres  \\\n",
       "0         False     False    False  ...     False    False   False   \n",
       "1         False     False    False  ...     False    False   False   \n",
       "2         False     False    False  ...     False    False   False   \n",
       "3         False     False    False  ...     False    False   False   \n",
       "4         False     False    False  ...     False    False   False   \n",
       "...         ...       ...      ...  ...       ...      ...     ...   \n",
       "10861      True     False     True  ...     False    False   False   \n",
       "10862      True     False    False  ...     False    False   False   \n",
       "10863      True     False     True  ...     False    False   False   \n",
       "10864      True     False    False  ...     False    False   False   \n",
       "10865      True     False    False  ...     False    False   False   \n",
       "\n",
       "       production_companies  release_date  vote_count  vote_average  \\\n",
       "0                     False         False       False         False   \n",
       "1                     False         False       False         False   \n",
       "2                     False         False       False         False   \n",
       "3                     False         False       False         False   \n",
       "4                     False         False       False         False   \n",
       "...                     ...           ...         ...           ...   \n",
       "10861                 False         False       False         False   \n",
       "10862                 False         False       False         False   \n",
       "10863                 False         False       False         False   \n",
       "10864                 False         False       False         False   \n",
       "10865                 False         False       False         False   \n",
       "\n",
       "       release_year  budget_adj  revenue_adj  \n",
       "0             False       False        False  \n",
       "1             False       False        False  \n",
       "2             False       False        False  \n",
       "3             False       False        False  \n",
       "4             False       False        False  \n",
       "...             ...         ...          ...  \n",
       "10861         False       False        False  \n",
       "10862         False       False        False  \n",
       "10863         False       False        False  \n",
       "10864         False       False        False  \n",
       "10865         False       False        False  \n",
       "\n",
       "[10866 rows x 21 columns]"
      ]
     },
     "execution_count": 8,
     "metadata": {},
     "output_type": "execute_result"
    }
   ],
   "source": [
    "df.isnull()"
   ]
  },
  {
   "cell_type": "code",
   "execution_count": 9,
   "id": "864aa9c5",
   "metadata": {
    "execution": {
     "iopub.execute_input": "2022-05-09T11:40:32.411126Z",
     "iopub.status.busy": "2022-05-09T11:40:32.410562Z",
     "iopub.status.idle": "2022-05-09T11:40:32.437478Z",
     "shell.execute_reply": "2022-05-09T11:40:32.436541Z"
    },
    "papermill": {
     "duration": 0.056095,
     "end_time": "2022-05-09T11:40:32.439722",
     "exception": false,
     "start_time": "2022-05-09T11:40:32.383627",
     "status": "completed"
    },
    "tags": []
   },
   "outputs": [],
   "source": [
    "df = df[pd.notnull(df['cast'])]\n",
    "df = df[pd.notnull(df['director'])]\n",
    "df = df[pd.notnull(df['genres'])] \n",
    "df['production_companies'].fillna('missing',inplace=True) #object datatype\n",
    "df['tagline'].fillna('missing',inplace=True)\n",
    "df['budget'].replace(0,np.nan,inplace=True)\n",
    "df['revenue'].replace(0,np.nan,inplace=True)\n",
    "df['runtime'].replace(0,np.nan,inplace=True)"
   ]
  },
  {
   "cell_type": "code",
   "execution_count": 10,
   "id": "0b08db8e",
   "metadata": {
    "execution": {
     "iopub.execute_input": "2022-05-09T11:40:32.489997Z",
     "iopub.status.busy": "2022-05-09T11:40:32.489722Z",
     "iopub.status.idle": "2022-05-09T11:40:32.524241Z",
     "shell.execute_reply": "2022-05-09T11:40:32.523463Z"
    },
    "papermill": {
     "duration": 0.062788,
     "end_time": "2022-05-09T11:40:32.526454",
     "exception": false,
     "start_time": "2022-05-09T11:40:32.463666",
     "status": "completed"
    },
    "tags": []
   },
   "outputs": [
    {
     "data": {
      "text/plain": [
       "1"
      ]
     },
     "execution_count": 10,
     "metadata": {},
     "output_type": "execute_result"
    }
   ],
   "source": [
    "df.duplicated().sum()"
   ]
  },
  {
   "cell_type": "code",
   "execution_count": 11,
   "id": "cf59c53a",
   "metadata": {
    "execution": {
     "iopub.execute_input": "2022-05-09T11:40:32.577936Z",
     "iopub.status.busy": "2022-05-09T11:40:32.577619Z",
     "iopub.status.idle": "2022-05-09T11:40:32.643116Z",
     "shell.execute_reply": "2022-05-09T11:40:32.642256Z"
    },
    "papermill": {
     "duration": 0.09309,
     "end_time": "2022-05-09T11:40:32.645014",
     "exception": false,
     "start_time": "2022-05-09T11:40:32.551924",
     "status": "completed"
    },
    "tags": []
   },
   "outputs": [
    {
     "data": {
      "text/plain": [
       "0"
      ]
     },
     "execution_count": 11,
     "metadata": {},
     "output_type": "execute_result"
    }
   ],
   "source": [
    "df.drop_duplicates(inplace=True)\n",
    "df.duplicated().sum()"
   ]
  },
  {
   "cell_type": "markdown",
   "id": "fcce4125",
   "metadata": {
    "papermill": {
     "duration": 0.02427,
     "end_time": "2022-05-09T11:40:32.694188",
     "exception": false,
     "start_time": "2022-05-09T11:40:32.669918",
     "status": "completed"
    },
    "tags": []
   },
   "source": [
    "# Data Visualization"
   ]
  },
  {
   "cell_type": "code",
   "execution_count": 12,
   "id": "29a6f27e",
   "metadata": {
    "execution": {
     "iopub.execute_input": "2022-05-09T11:40:32.747366Z",
     "iopub.status.busy": "2022-05-09T11:40:32.746922Z",
     "iopub.status.idle": "2022-05-09T11:40:34.322767Z",
     "shell.execute_reply": "2022-05-09T11:40:34.321678Z"
    },
    "papermill": {
     "duration": 1.605803,
     "end_time": "2022-05-09T11:40:34.327339",
     "exception": false,
     "start_time": "2022-05-09T11:40:32.721536",
     "status": "completed"
    },
    "tags": []
   },
   "outputs": [
    {
     "data": {
      "image/png": "[encoded data removed]",
      "text/plain": [
       "<Figure size 864x864 with 12 Axes>"
      ]
     },
     "metadata": {
      "needs_background": "light"
     },
     "output_type": "display_data"
    }
   ],
   "source": [
    "df.hist(figsize=(12,12));"
   ]
  },
  {
   "cell_type": "code",
   "execution_count": 13,
   "id": "8e971044",
   "metadata": {
    "execution": {
     "iopub.execute_input": "2022-05-09T11:40:34.387141Z",
     "iopub.status.busy": "2022-05-09T11:40:34.386726Z",
     "iopub.status.idle": "2022-05-09T11:40:34.653570Z",
     "shell.execute_reply": "2022-05-09T11:40:34.652650Z"
    },
    "papermill": {
     "duration": 0.296676,
     "end_time": "2022-05-09T11:40:34.655666",
     "exception": false,
     "start_time": "2022-05-09T11:40:34.358990",
     "status": "completed"
    },
    "tags": []
   },
   "outputs": [
    {
     "data": {
      "text/plain": [
       "Text(0, 0.5, 'Popularity')"
      ]
     },
     "execution_count": 13,
     "metadata": {},
     "output_type": "execute_result"
    },
    {
     "data": {
      "image/png": "[encoded data removed]",
      "text/plain": [
       "<Figure size 432x288 with 1 Axes>"
      ]
     },
     "metadata": {
      "needs_background": "light"
     },
     "output_type": "display_data"
    }
   ],
   "source": [
    "x = df['budget']\n",
    "y = df['popularity']\n",
    "\n",
    "plt.scatter(x,y,alpha=0.2)\n",
    "plt.title('Average Popularity by different budget')\n",
    "plt.xlabel('Budget')\n",
    "plt.ylabel('Popularity')"
   ]
  },
  {
   "cell_type": "code",
   "execution_count": 14,
   "id": "1b77a74e",
   "metadata": {
    "execution": {
     "iopub.execute_input": "2022-05-09T11:40:34.715515Z",
     "iopub.status.busy": "2022-05-09T11:40:34.714838Z",
     "iopub.status.idle": "2022-05-09T11:40:34.731995Z",
     "shell.execute_reply": "2022-05-09T11:40:34.731356Z"
    },
    "papermill": {
     "duration": 0.050295,
     "end_time": "2022-05-09T11:40:34.734104",
     "exception": false,
     "start_time": "2022-05-09T11:40:34.683809",
     "status": "completed"
    },
    "tags": []
   },
   "outputs": [],
   "source": [
    "m = df['budget'].median()\n",
    "low_budget = df.query('budget < {}'.format(m))\n",
    "high_budget = df.query('budget >= {}'.format(m))\n",
    "mean_low_budget = low_budget['popularity'].mean()\n",
    "mean_high_budget = high_budget['popularity'].mean()"
   ]
  },
  {
   "cell_type": "code",
   "execution_count": 15,
   "id": "5ca7375b",
   "metadata": {
    "execution": {
     "iopub.execute_input": "2022-05-09T11:40:34.794549Z",
     "iopub.status.busy": "2022-05-09T11:40:34.794035Z",
     "iopub.status.idle": "2022-05-09T11:40:34.968925Z",
     "shell.execute_reply": "2022-05-09T11:40:34.967680Z"
    },
    "papermill": {
     "duration": 0.206044,
     "end_time": "2022-05-09T11:40:34.971063",
     "exception": false,
     "start_time": "2022-05-09T11:40:34.765019",
     "status": "completed"
    },
    "tags": []
   },
   "outputs": [
    {
     "data": {
      "text/plain": [
       "Text(0, 0.5, 'Average Popularity')"
      ]
     },
     "execution_count": 15,
     "metadata": {},
     "output_type": "execute_result"
    },
    {
     "data": {
      "image/png": "[encoded data removed]",
      "text/plain": [
       "<Figure size 432x288 with 1 Axes>"
      ]
     },
     "metadata": {
      "needs_background": "light"
     },
     "output_type": "display_data"
    }
   ],
   "source": [
    "x = [1,2]\n",
    "y = [mean_low_budget,mean_high_budget]\n",
    "labels = ['low','high']\n",
    "plt.bar(x, y, tick_label=labels,color=['b','r'])\n",
    "plt.title('Average Popularity by Different Budget')\n",
    "plt.xlabel('Budgets')\n",
    "plt.ylabel('Average Popularity')"
   ]
  },
  {
   "cell_type": "code",
   "execution_count": 16,
   "id": "f107ee34",
   "metadata": {
    "execution": {
     "iopub.execute_input": "2022-05-09T11:40:35.030473Z",
     "iopub.status.busy": "2022-05-09T11:40:35.030011Z",
     "iopub.status.idle": "2022-05-09T11:40:35.036604Z",
     "shell.execute_reply": "2022-05-09T11:40:35.035713Z"
    },
    "papermill": {
     "duration": 0.038749,
     "end_time": "2022-05-09T11:40:35.038760",
     "exception": false,
     "start_time": "2022-05-09T11:40:35.000011",
     "status": "completed"
    },
    "tags": []
   },
   "outputs": [
    {
     "data": {
      "text/plain": [
       "55.35667547647106"
      ]
     },
     "execution_count": 16,
     "metadata": {},
     "output_type": "execute_result"
    }
   ],
   "source": [
    "gain = (mean_high_budget-mean_low_budget)/mean_high_budget*100\n",
    "gain"
   ]
  },
  {
   "cell_type": "code",
   "execution_count": 17,
   "id": "0ebf0c67",
   "metadata": {
    "execution": {
     "iopub.execute_input": "2022-05-09T11:40:35.101885Z",
     "iopub.status.busy": "2022-05-09T11:40:35.101617Z",
     "iopub.status.idle": "2022-05-09T11:40:35.120113Z",
     "shell.execute_reply": "2022-05-09T11:40:35.119213Z"
    },
    "papermill": {
     "duration": 0.051875,
     "end_time": "2022-05-09T11:40:35.122372",
     "exception": false,
     "start_time": "2022-05-09T11:40:35.070497",
     "status": "completed"
    },
    "tags": []
   },
   "outputs": [],
   "source": [
    "short_m = df.query('runtime <= {}'.format(60))\n",
    "medium_m = df.query('runtime <= {}'.format(120))\n",
    "long_m = df.query('runtime > {}'.format(120))\n",
    "mean_short_m = short_m['popularity'].mean()\n",
    "mean_medium_m = medium_m['popularity'].mean()\n",
    "mean_long_m = long_m['popularity'].mean()"
   ]
  },
  {
   "cell_type": "code",
   "execution_count": 18,
   "id": "ce122abb",
   "metadata": {
    "execution": {
     "iopub.execute_input": "2022-05-09T11:40:35.183671Z",
     "iopub.status.busy": "2022-05-09T11:40:35.183329Z",
     "iopub.status.idle": "2022-05-09T11:40:35.362587Z",
     "shell.execute_reply": "2022-05-09T11:40:35.361715Z"
    },
    "papermill": {
     "duration": 0.211697,
     "end_time": "2022-05-09T11:40:35.364916",
     "exception": false,
     "start_time": "2022-05-09T11:40:35.153219",
     "status": "completed"
    },
    "tags": []
   },
   "outputs": [
    {
     "data": {
      "text/plain": [
       "Text(0, 0.5, 'Average Popularity')"
      ]
     },
     "execution_count": 18,
     "metadata": {},
     "output_type": "execute_result"
    },
    {
     "data": {
      "image/png": "[encoded data removed]",
      "text/plain": [
       "<Figure size 432x288 with 1 Axes>"
      ]
     },
     "metadata": {
      "needs_background": "light"
     },
     "output_type": "display_data"
    }
   ],
   "source": [
    "x = [1,2,3]\n",
    "y = [mean_short_m, mean_medium_m, mean_long_m]\n",
    "labels=['low','medium','high']\n",
    "plt.bar(x, y, tick_label = labels, color=['b','r','g'])\n",
    "plt.title('Average Popularity by Different Runtime')\n",
    "plt.xlabel('Runtime')\n",
    "plt.ylabel('Average Popularity')"
   ]
  },
  {
   "cell_type": "code",
   "execution_count": 19,
   "id": "fdd0d155",
   "metadata": {
    "execution": {
     "iopub.execute_input": "2022-05-09T11:40:35.427721Z",
     "iopub.status.busy": "2022-05-09T11:40:35.427460Z",
     "iopub.status.idle": "2022-05-09T11:40:35.718999Z",
     "shell.execute_reply": "2022-05-09T11:40:35.718422Z"
    },
    "papermill": {
     "duration": 0.324558,
     "end_time": "2022-05-09T11:40:35.720705",
     "exception": false,
     "start_time": "2022-05-09T11:40:35.396147",
     "status": "completed"
    },
    "tags": []
   },
   "outputs": [
    {
     "name": "stderr",
     "output_type": "stream",
     "text": [
      "/opt/conda/lib/python3.7/site-packages/seaborn/_decorators.py:43: FutureWarning: Pass the following variables as keyword args: x, y. From version 0.12, the only valid positional argument will be `data`, and passing other arguments without an explicit keyword will result in an error or misinterpretation.\n",
      "  FutureWarning\n"
     ]
    },
    {
     "data": {
      "text/plain": [
       "<AxesSubplot:xlabel='runtime', ylabel='popularity'>"
      ]
     },
     "execution_count": 19,
     "metadata": {},
     "output_type": "execute_result"
    },
    {
     "data": {
      "image/png": "[encoded data removed]",
      "text/plain": [
       "<Figure size 432x288 with 1 Axes>"
      ]
     },
     "metadata": {},
     "output_type": "display_data"
    }
   ],
   "source": [
    "sns.set()\n",
    "sns.scatterplot(df['runtime'], df['popularity'],alpha=0.2)"
   ]
  },
  {
   "cell_type": "code",
   "execution_count": 20,
   "id": "edaed1b3",
   "metadata": {
    "execution": {
     "iopub.execute_input": "2022-05-09T11:40:35.786791Z",
     "iopub.status.busy": "2022-05-09T11:40:35.786487Z",
     "iopub.status.idle": "2022-05-09T11:40:37.398709Z",
     "shell.execute_reply": "2022-05-09T11:40:37.397573Z"
    },
    "papermill": {
     "duration": 1.648406,
     "end_time": "2022-05-09T11:40:37.400572",
     "exception": false,
     "start_time": "2022-05-09T11:40:35.752166",
     "status": "completed"
    },
    "tags": []
   },
   "outputs": [
    {
     "data": {
      "image/png": "[encoded data removed]",
      "text/plain": [
       "<Figure size 720x720 with 12 Axes>"
      ]
     },
     "metadata": {},
     "output_type": "display_data"
    }
   ],
   "source": [
    "top10_rev = df.nlargest(10,'revenue')\n",
    "top10_rev.hist(figsize=(10,10));"
   ]
  },
  {
   "cell_type": "code",
   "execution_count": 21,
   "id": "1031608c",
   "metadata": {
    "execution": {
     "iopub.execute_input": "2022-05-09T11:40:37.468160Z",
     "iopub.status.busy": "2022-05-09T11:40:37.467890Z",
     "iopub.status.idle": "2022-05-09T11:40:37.475320Z",
     "shell.execute_reply": "2022-05-09T11:40:37.474366Z"
    },
    "papermill": {
     "duration": 0.044099,
     "end_time": "2022-05-09T11:40:37.477290",
     "exception": false,
     "start_time": "2022-05-09T11:40:37.433191",
     "status": "completed"
    },
    "tags": []
   },
   "outputs": [
    {
     "data": {
      "text/plain": [
       "0        Action|Adventure|Science Fiction|Thriller\n",
       "1        Action|Adventure|Science Fiction|Thriller\n",
       "2               Adventure|Science Fiction|Thriller\n",
       "3         Action|Adventure|Science Fiction|Fantasy\n",
       "4                            Action|Crime|Thriller\n",
       "                           ...                    \n",
       "10861                                  Documentary\n",
       "10862                       Action|Adventure|Drama\n",
       "10863                               Mystery|Comedy\n",
       "10864                                Action|Comedy\n",
       "10865                                       Horror\n",
       "Name: genres, Length: 10731, dtype: object"
      ]
     },
     "execution_count": 21,
     "metadata": {},
     "output_type": "execute_result"
    }
   ],
   "source": [
    "df['genres']"
   ]
  },
  {
   "cell_type": "code",
   "execution_count": 22,
   "id": "1435eeae",
   "metadata": {
    "execution": {
     "iopub.execute_input": "2022-05-09T11:40:37.545705Z",
     "iopub.status.busy": "2022-05-09T11:40:37.545425Z",
     "iopub.status.idle": "2022-05-09T11:40:37.559086Z",
     "shell.execute_reply": "2022-05-09T11:40:37.558443Z"
    },
    "papermill": {
     "duration": 0.050754,
     "end_time": "2022-05-09T11:40:37.561196",
     "exception": false,
     "start_time": "2022-05-09T11:40:37.510442",
     "status": "completed"
    },
    "tags": []
   },
   "outputs": [],
   "source": [
    "data = pd.Series(df['genres'].str.cat(sep='|').split('|'))\n",
    "count = data.value_counts(ascending=False)\n",
    "df_genre_counts = pd.DataFrame({'genres':count.index, 'count':count.values})"
   ]
  },
  {
   "cell_type": "code",
   "execution_count": 23,
   "id": "1274cfc6",
   "metadata": {
    "execution": {
     "iopub.execute_input": "2022-05-09T11:40:37.630150Z",
     "iopub.status.busy": "2022-05-09T11:40:37.629632Z",
     "iopub.status.idle": "2022-05-09T11:40:37.638263Z",
     "shell.execute_reply": "2022-05-09T11:40:37.637502Z"
    },
    "papermill": {
     "duration": 0.044853,
     "end_time": "2022-05-09T11:40:37.640221",
     "exception": false,
     "start_time": "2022-05-09T11:40:37.595368",
     "status": "completed"
    },
    "tags": []
   },
   "outputs": [
    {
     "data": {
      "text/html": [
       "<div>\n",
       "<style scoped>\n",
       "    .dataframe tbody tr th:only-of-type {\n",
       "        vertical-align: middle;\n",
       "    }\n",
       "\n",
       "    .dataframe tbody tr th {\n",
       "        vertical-align: top;\n",
       "    }\n",
       "\n",
       "    .dataframe thead th {\n",
       "        text-align: right;\n",
       "    }\n",
       "</style>\n",
       "<table border=\"1\" class=\"dataframe\">\n",
       "  <thead>\n",
       "    <tr style=\"text-align: right;\">\n",
       "      <th></th>\n",
       "      <th>genres</th>\n",
       "      <th>count</th>\n",
       "    </tr>\n",
       "  </thead>\n",
       "  <tbody>\n",
       "    <tr>\n",
       "      <th>0</th>\n",
       "      <td>Drama</td>\n",
       "      <td>4746</td>\n",
       "    </tr>\n",
       "    <tr>\n",
       "      <th>1</th>\n",
       "      <td>Comedy</td>\n",
       "      <td>3775</td>\n",
       "    </tr>\n",
       "    <tr>\n",
       "      <th>2</th>\n",
       "      <td>Thriller</td>\n",
       "      <td>2902</td>\n",
       "    </tr>\n",
       "    <tr>\n",
       "      <th>3</th>\n",
       "      <td>Action</td>\n",
       "      <td>2376</td>\n",
       "    </tr>\n",
       "    <tr>\n",
       "      <th>4</th>\n",
       "      <td>Romance</td>\n",
       "      <td>1708</td>\n",
       "    </tr>\n",
       "    <tr>\n",
       "      <th>5</th>\n",
       "      <td>Horror</td>\n",
       "      <td>1636</td>\n",
       "    </tr>\n",
       "    <tr>\n",
       "      <th>6</th>\n",
       "      <td>Adventure</td>\n",
       "      <td>1465</td>\n",
       "    </tr>\n",
       "    <tr>\n",
       "      <th>7</th>\n",
       "      <td>Crime</td>\n",
       "      <td>1353</td>\n",
       "    </tr>\n",
       "    <tr>\n",
       "      <th>8</th>\n",
       "      <td>Science Fiction</td>\n",
       "      <td>1221</td>\n",
       "    </tr>\n",
       "    <tr>\n",
       "      <th>9</th>\n",
       "      <td>Family</td>\n",
       "      <td>1214</td>\n",
       "    </tr>\n",
       "    <tr>\n",
       "      <th>10</th>\n",
       "      <td>Fantasy</td>\n",
       "      <td>908</td>\n",
       "    </tr>\n",
       "    <tr>\n",
       "      <th>11</th>\n",
       "      <td>Mystery</td>\n",
       "      <td>808</td>\n",
       "    </tr>\n",
       "    <tr>\n",
       "      <th>12</th>\n",
       "      <td>Animation</td>\n",
       "      <td>664</td>\n",
       "    </tr>\n",
       "    <tr>\n",
       "      <th>13</th>\n",
       "      <td>Documentary</td>\n",
       "      <td>470</td>\n",
       "    </tr>\n",
       "    <tr>\n",
       "      <th>14</th>\n",
       "      <td>Music</td>\n",
       "      <td>399</td>\n",
       "    </tr>\n",
       "    <tr>\n",
       "      <th>15</th>\n",
       "      <td>History</td>\n",
       "      <td>330</td>\n",
       "    </tr>\n",
       "    <tr>\n",
       "      <th>16</th>\n",
       "      <td>War</td>\n",
       "      <td>268</td>\n",
       "    </tr>\n",
       "    <tr>\n",
       "      <th>17</th>\n",
       "      <td>Foreign</td>\n",
       "      <td>184</td>\n",
       "    </tr>\n",
       "    <tr>\n",
       "      <th>18</th>\n",
       "      <td>Western</td>\n",
       "      <td>164</td>\n",
       "    </tr>\n",
       "    <tr>\n",
       "      <th>19</th>\n",
       "      <td>TV Movie</td>\n",
       "      <td>162</td>\n",
       "    </tr>\n",
       "  </tbody>\n",
       "</table>\n",
       "</div>"
      ],
      "text/plain": [
       "             genres  count\n",
       "0             Drama   4746\n",
       "1            Comedy   3775\n",
       "2          Thriller   2902\n",
       "3            Action   2376\n",
       "4           Romance   1708\n",
       "5            Horror   1636\n",
       "6         Adventure   1465\n",
       "7             Crime   1353\n",
       "8   Science Fiction   1221\n",
       "9            Family   1214\n",
       "10          Fantasy    908\n",
       "11          Mystery    808\n",
       "12        Animation    664\n",
       "13      Documentary    470\n",
       "14            Music    399\n",
       "15          History    330\n",
       "16              War    268\n",
       "17          Foreign    184\n",
       "18          Western    164\n",
       "19         TV Movie    162"
      ]
     },
     "execution_count": 23,
     "metadata": {},
     "output_type": "execute_result"
    }
   ],
   "source": [
    "df_genre_counts"
   ]
  },
  {
   "cell_type": "code",
   "execution_count": 24,
   "id": "21a8f5c5",
   "metadata": {
    "execution": {
     "iopub.execute_input": "2022-05-09T11:40:37.709383Z",
     "iopub.status.busy": "2022-05-09T11:40:37.708938Z",
     "iopub.status.idle": "2022-05-09T11:40:38.036858Z",
     "shell.execute_reply": "2022-05-09T11:40:38.035939Z"
    },
    "papermill": {
     "duration": 0.365505,
     "end_time": "2022-05-09T11:40:38.039126",
     "exception": false,
     "start_time": "2022-05-09T11:40:37.673621",
     "status": "completed"
    },
    "tags": []
   },
   "outputs": [
    {
     "data": {
      "image/png": "[encoded data removed]",
      "text/plain": [
       "<Figure size 432x288 with 1 Axes>"
      ]
     },
     "metadata": {},
     "output_type": "display_data"
    }
   ],
   "source": [
    "x = df_genre_counts.groupby('genres')['count'].mean().sort_values()\n",
    "x.plot(kind='barh');"
   ]
  },
  {
   "cell_type": "code",
   "execution_count": 25,
   "id": "2d4d2c45",
   "metadata": {
    "execution": {
     "iopub.execute_input": "2022-05-09T11:40:38.113629Z",
     "iopub.status.busy": "2022-05-09T11:40:38.113325Z",
     "iopub.status.idle": "2022-05-09T11:40:38.380158Z",
     "shell.execute_reply": "2022-05-09T11:40:38.379501Z"
    },
    "papermill": {
     "duration": 0.306615,
     "end_time": "2022-05-09T11:40:38.382160",
     "exception": false,
     "start_time": "2022-05-09T11:40:38.075545",
     "status": "completed"
    },
    "tags": []
   },
   "outputs": [
    {
     "data": {
      "text/plain": [
       "<AxesSubplot:title={'center':'Number of Movies Released In Year'}, xlabel='year', ylabel='number of movies'>"
      ]
     },
     "execution_count": 25,
     "metadata": {},
     "output_type": "execute_result"
    },
    {
     "data": {
      "image/png": "[encoded data removed]",
      "text/plain": [
       "<Figure size 432x288 with 1 Axes>"
      ]
     },
     "metadata": {},
     "output_type": "display_data"
    }
   ],
   "source": [
    "movie_count = df['release_year'].value_counts()\n",
    "movie_count.plot(xlabel='year',ylabel='number of movies',title='Number of Movies Released In Year')"
   ]
  },
  {
   "cell_type": "code",
   "execution_count": null,
   "id": "b0feff47",
   "metadata": {
    "papermill": {
     "duration": 0.036019,
     "end_time": "2022-05-09T11:40:38.453599",
     "exception": false,
     "start_time": "2022-05-09T11:40:38.417580",
     "status": "completed"
    },
    "tags": []
   },
   "outputs": [],
   "source": []
  }
 ],
 "metadata": {
  "kernelspec": {
   "display_name": "Python 3",
   "language": "python",
   "name": "python3"
  },
  "language_info": {
   "codemirror_mode": {
    "name": "ipython",
    "version": 3
   },
   "file_extension": ".py",
   "mimetype": "text/x-python",
   "name": "python",
   "nbconvert_exporter": "python",
   "pygments_lexer": "ipython3",
   "version": "3.7.12"
  },
  "papermill": {
   "default_parameters": {},
   "duration": 17.862924,
   "end_time": "2022-05-09T11:40:39.310836",
   "environment_variables": {},
   "exception": null,
   "input_path": "__notebook__.ipynb",
   "output_path": "__notebook__.ipynb",
   "parameters": {},
   "start_time": "2022-05-09T11:40:21.447912",
   "version": "2.3.4"
  }
 },
 "nbformat": 4,
 "nbformat_minor": 5
}
